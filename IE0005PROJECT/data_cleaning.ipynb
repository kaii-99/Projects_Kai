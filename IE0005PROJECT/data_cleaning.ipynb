{
 "cells": [
  {
   "cell_type": "markdown",
   "id": "599be63e-e883-4b69-a1c3-7db7de6b5416",
   "metadata": {},
   "source": [
    "## Intro to variables of dataset (need change i just copied)"
   ]
  },
  {
   "cell_type": "markdown",
   "id": "2852de66-e239-45f4-bf1d-948387372a7d",
   "metadata": {},
   "source": [
    "1. Age - Numerical - Days\r\n",
    "2. Height - Numerical - Cm\r\n",
    "3. Weight - Numerical - Kg\r\n",
    "4. Gender - Categorical - 1/0\r\n",
    "5. Systolic Blood Pressure (ap_hi) - Numerical - mmHg\r\n",
    "6. Systolic Blood Pressure (ap_lo) - Numerical - mmHg\r\n",
    "7. Cholesterol - Categorical - 1-3\r\n",
    "8. Glucose - Categorical - 1-3\r\n",
    "9. Smoke - Categorical - 1/0\r\n",
    "10. Alcohol Intake - Categorical - 1/0\r\n",
    "11. Physical Activity - Categorical - 1/0\r\n",
    "12. Cardio - Categorical - 1/0"
   ]
  },
  {
   "cell_type": "code",
   "execution_count": 4,
   "id": "a848cfa5-8178-4f60-8cf1-8e35dcde1ca0",
   "metadata": {},
   "outputs": [],
   "source": [
    "import numpy as np\n",
    "import pandas as pd\n",
    "import seaborn as sb\n",
    "import matplotlib.pyplot as plt\n",
    "sb.set()"
   ]
  },
  {
   "cell_type": "code",
   "execution_count": 5,
   "id": "af8f0ca1-3719-4186-9ec5-e07768db4c6f",
   "metadata": {},
   "outputs": [
    {
     "data": {
      "text/html": [
       "<div>\n",
       "<style scoped>\n",
       "    .dataframe tbody tr th:only-of-type {\n",
       "        vertical-align: middle;\n",
       "    }\n",
       "\n",
       "    .dataframe tbody tr th {\n",
       "        vertical-align: top;\n",
       "    }\n",
       "\n",
       "    .dataframe thead th {\n",
       "        text-align: right;\n",
       "    }\n",
       "</style>\n",
       "<table border=\"1\" class=\"dataframe\">\n",
       "  <thead>\n",
       "    <tr style=\"text-align: right;\">\n",
       "      <th></th>\n",
       "      <th>id</th>\n",
       "      <th>age</th>\n",
       "      <th>gender</th>\n",
       "      <th>height</th>\n",
       "      <th>weight</th>\n",
       "      <th>ap_hi</th>\n",
       "      <th>ap_lo</th>\n",
       "      <th>cholesterol</th>\n",
       "      <th>gluc</th>\n",
       "      <th>smoke</th>\n",
       "      <th>alco</th>\n",
       "      <th>active</th>\n",
       "      <th>cardio</th>\n",
       "    </tr>\n",
       "  </thead>\n",
       "  <tbody>\n",
       "    <tr>\n",
       "      <th>0</th>\n",
       "      <td>0</td>\n",
       "      <td>18393</td>\n",
       "      <td>2</td>\n",
       "      <td>168</td>\n",
       "      <td>62.0</td>\n",
       "      <td>110</td>\n",
       "      <td>80</td>\n",
       "      <td>1</td>\n",
       "      <td>1</td>\n",
       "      <td>0</td>\n",
       "      <td>0</td>\n",
       "      <td>1</td>\n",
       "      <td>0</td>\n",
       "    </tr>\n",
       "    <tr>\n",
       "      <th>1</th>\n",
       "      <td>1</td>\n",
       "      <td>20228</td>\n",
       "      <td>1</td>\n",
       "      <td>156</td>\n",
       "      <td>85.0</td>\n",
       "      <td>140</td>\n",
       "      <td>90</td>\n",
       "      <td>3</td>\n",
       "      <td>1</td>\n",
       "      <td>0</td>\n",
       "      <td>0</td>\n",
       "      <td>1</td>\n",
       "      <td>1</td>\n",
       "    </tr>\n",
       "    <tr>\n",
       "      <th>2</th>\n",
       "      <td>2</td>\n",
       "      <td>18857</td>\n",
       "      <td>1</td>\n",
       "      <td>165</td>\n",
       "      <td>64.0</td>\n",
       "      <td>130</td>\n",
       "      <td>70</td>\n",
       "      <td>3</td>\n",
       "      <td>1</td>\n",
       "      <td>0</td>\n",
       "      <td>0</td>\n",
       "      <td>0</td>\n",
       "      <td>1</td>\n",
       "    </tr>\n",
       "    <tr>\n",
       "      <th>3</th>\n",
       "      <td>3</td>\n",
       "      <td>17623</td>\n",
       "      <td>2</td>\n",
       "      <td>169</td>\n",
       "      <td>82.0</td>\n",
       "      <td>150</td>\n",
       "      <td>100</td>\n",
       "      <td>1</td>\n",
       "      <td>1</td>\n",
       "      <td>0</td>\n",
       "      <td>0</td>\n",
       "      <td>1</td>\n",
       "      <td>1</td>\n",
       "    </tr>\n",
       "    <tr>\n",
       "      <th>4</th>\n",
       "      <td>4</td>\n",
       "      <td>17474</td>\n",
       "      <td>1</td>\n",
       "      <td>156</td>\n",
       "      <td>56.0</td>\n",
       "      <td>100</td>\n",
       "      <td>60</td>\n",
       "      <td>1</td>\n",
       "      <td>1</td>\n",
       "      <td>0</td>\n",
       "      <td>0</td>\n",
       "      <td>0</td>\n",
       "      <td>0</td>\n",
       "    </tr>\n",
       "  </tbody>\n",
       "</table>\n",
       "</div>"
      ],
      "text/plain": [
       "   id    age  gender  height  weight  ap_hi  ap_lo  cholesterol  gluc  smoke  \\\n",
       "0   0  18393       2     168    62.0    110     80            1     1      0   \n",
       "1   1  20228       1     156    85.0    140     90            3     1      0   \n",
       "2   2  18857       1     165    64.0    130     70            3     1      0   \n",
       "3   3  17623       2     169    82.0    150    100            1     1      0   \n",
       "4   4  17474       1     156    56.0    100     60            1     1      0   \n",
       "\n",
       "   alco  active  cardio  \n",
       "0     0       1       0  \n",
       "1     0       1       1  \n",
       "2     0       0       1  \n",
       "3     0       1       1  \n",
       "4     0       0       0  "
      ]
     },
     "execution_count": 5,
     "metadata": {},
     "output_type": "execute_result"
    }
   ],
   "source": [
    "cardioData = pd.read_csv('cardio_train.csv',delimiter=';')\n",
    "cardioData.head()"
   ]
  },
  {
   "cell_type": "code",
   "execution_count": 6,
   "id": "0c83a92a-bf0d-4648-9629-fb9f4591f533",
   "metadata": {},
   "outputs": [
    {
     "data": {
      "text/html": [
       "<div>\n",
       "<style scoped>\n",
       "    .dataframe tbody tr th:only-of-type {\n",
       "        vertical-align: middle;\n",
       "    }\n",
       "\n",
       "    .dataframe tbody tr th {\n",
       "        vertical-align: top;\n",
       "    }\n",
       "\n",
       "    .dataframe thead th {\n",
       "        text-align: right;\n",
       "    }\n",
       "</style>\n",
       "<table border=\"1\" class=\"dataframe\">\n",
       "  <thead>\n",
       "    <tr style=\"text-align: right;\">\n",
       "      <th></th>\n",
       "      <th>id</th>\n",
       "      <th>age</th>\n",
       "      <th>gender</th>\n",
       "      <th>height</th>\n",
       "      <th>weight</th>\n",
       "      <th>ap_hi</th>\n",
       "      <th>ap_lo</th>\n",
       "      <th>cholesterol</th>\n",
       "      <th>gluc</th>\n",
       "      <th>smoke</th>\n",
       "      <th>alco</th>\n",
       "      <th>active</th>\n",
       "      <th>cardio</th>\n",
       "    </tr>\n",
       "  </thead>\n",
       "  <tbody>\n",
       "    <tr>\n",
       "      <th>count</th>\n",
       "      <td>70000.000000</td>\n",
       "      <td>70000.000000</td>\n",
       "      <td>70000.000000</td>\n",
       "      <td>70000.000000</td>\n",
       "      <td>70000.000000</td>\n",
       "      <td>70000.000000</td>\n",
       "      <td>70000.000000</td>\n",
       "      <td>70000.000000</td>\n",
       "      <td>70000.000000</td>\n",
       "      <td>70000.000000</td>\n",
       "      <td>70000.000000</td>\n",
       "      <td>70000.000000</td>\n",
       "      <td>70000.000000</td>\n",
       "    </tr>\n",
       "    <tr>\n",
       "      <th>mean</th>\n",
       "      <td>49972.419900</td>\n",
       "      <td>19468.865814</td>\n",
       "      <td>1.349571</td>\n",
       "      <td>164.359229</td>\n",
       "      <td>74.205690</td>\n",
       "      <td>128.817286</td>\n",
       "      <td>96.630414</td>\n",
       "      <td>1.366871</td>\n",
       "      <td>1.226457</td>\n",
       "      <td>0.088129</td>\n",
       "      <td>0.053771</td>\n",
       "      <td>0.803729</td>\n",
       "      <td>0.499700</td>\n",
       "    </tr>\n",
       "    <tr>\n",
       "      <th>std</th>\n",
       "      <td>28851.302323</td>\n",
       "      <td>2467.251667</td>\n",
       "      <td>0.476838</td>\n",
       "      <td>8.210126</td>\n",
       "      <td>14.395757</td>\n",
       "      <td>154.011419</td>\n",
       "      <td>188.472530</td>\n",
       "      <td>0.680250</td>\n",
       "      <td>0.572270</td>\n",
       "      <td>0.283484</td>\n",
       "      <td>0.225568</td>\n",
       "      <td>0.397179</td>\n",
       "      <td>0.500003</td>\n",
       "    </tr>\n",
       "    <tr>\n",
       "      <th>min</th>\n",
       "      <td>0.000000</td>\n",
       "      <td>10798.000000</td>\n",
       "      <td>1.000000</td>\n",
       "      <td>55.000000</td>\n",
       "      <td>10.000000</td>\n",
       "      <td>-150.000000</td>\n",
       "      <td>-70.000000</td>\n",
       "      <td>1.000000</td>\n",
       "      <td>1.000000</td>\n",
       "      <td>0.000000</td>\n",
       "      <td>0.000000</td>\n",
       "      <td>0.000000</td>\n",
       "      <td>0.000000</td>\n",
       "    </tr>\n",
       "    <tr>\n",
       "      <th>25%</th>\n",
       "      <td>25006.750000</td>\n",
       "      <td>17664.000000</td>\n",
       "      <td>1.000000</td>\n",
       "      <td>159.000000</td>\n",
       "      <td>65.000000</td>\n",
       "      <td>120.000000</td>\n",
       "      <td>80.000000</td>\n",
       "      <td>1.000000</td>\n",
       "      <td>1.000000</td>\n",
       "      <td>0.000000</td>\n",
       "      <td>0.000000</td>\n",
       "      <td>1.000000</td>\n",
       "      <td>0.000000</td>\n",
       "    </tr>\n",
       "    <tr>\n",
       "      <th>50%</th>\n",
       "      <td>50001.500000</td>\n",
       "      <td>19703.000000</td>\n",
       "      <td>1.000000</td>\n",
       "      <td>165.000000</td>\n",
       "      <td>72.000000</td>\n",
       "      <td>120.000000</td>\n",
       "      <td>80.000000</td>\n",
       "      <td>1.000000</td>\n",
       "      <td>1.000000</td>\n",
       "      <td>0.000000</td>\n",
       "      <td>0.000000</td>\n",
       "      <td>1.000000</td>\n",
       "      <td>0.000000</td>\n",
       "    </tr>\n",
       "    <tr>\n",
       "      <th>75%</th>\n",
       "      <td>74889.250000</td>\n",
       "      <td>21327.000000</td>\n",
       "      <td>2.000000</td>\n",
       "      <td>170.000000</td>\n",
       "      <td>82.000000</td>\n",
       "      <td>140.000000</td>\n",
       "      <td>90.000000</td>\n",
       "      <td>2.000000</td>\n",
       "      <td>1.000000</td>\n",
       "      <td>0.000000</td>\n",
       "      <td>0.000000</td>\n",
       "      <td>1.000000</td>\n",
       "      <td>1.000000</td>\n",
       "    </tr>\n",
       "    <tr>\n",
       "      <th>max</th>\n",
       "      <td>99999.000000</td>\n",
       "      <td>23713.000000</td>\n",
       "      <td>2.000000</td>\n",
       "      <td>250.000000</td>\n",
       "      <td>200.000000</td>\n",
       "      <td>16020.000000</td>\n",
       "      <td>11000.000000</td>\n",
       "      <td>3.000000</td>\n",
       "      <td>3.000000</td>\n",
       "      <td>1.000000</td>\n",
       "      <td>1.000000</td>\n",
       "      <td>1.000000</td>\n",
       "      <td>1.000000</td>\n",
       "    </tr>\n",
       "  </tbody>\n",
       "</table>\n",
       "</div>"
      ],
      "text/plain": [
       "                 id           age        gender        height        weight  \\\n",
       "count  70000.000000  70000.000000  70000.000000  70000.000000  70000.000000   \n",
       "mean   49972.419900  19468.865814      1.349571    164.359229     74.205690   \n",
       "std    28851.302323   2467.251667      0.476838      8.210126     14.395757   \n",
       "min        0.000000  10798.000000      1.000000     55.000000     10.000000   \n",
       "25%    25006.750000  17664.000000      1.000000    159.000000     65.000000   \n",
       "50%    50001.500000  19703.000000      1.000000    165.000000     72.000000   \n",
       "75%    74889.250000  21327.000000      2.000000    170.000000     82.000000   \n",
       "max    99999.000000  23713.000000      2.000000    250.000000    200.000000   \n",
       "\n",
       "              ap_hi         ap_lo   cholesterol          gluc         smoke  \\\n",
       "count  70000.000000  70000.000000  70000.000000  70000.000000  70000.000000   \n",
       "mean     128.817286     96.630414      1.366871      1.226457      0.088129   \n",
       "std      154.011419    188.472530      0.680250      0.572270      0.283484   \n",
       "min     -150.000000    -70.000000      1.000000      1.000000      0.000000   \n",
       "25%      120.000000     80.000000      1.000000      1.000000      0.000000   \n",
       "50%      120.000000     80.000000      1.000000      1.000000      0.000000   \n",
       "75%      140.000000     90.000000      2.000000      1.000000      0.000000   \n",
       "max    16020.000000  11000.000000      3.000000      3.000000      1.000000   \n",
       "\n",
       "               alco        active        cardio  \n",
       "count  70000.000000  70000.000000  70000.000000  \n",
       "mean       0.053771      0.803729      0.499700  \n",
       "std        0.225568      0.397179      0.500003  \n",
       "min        0.000000      0.000000      0.000000  \n",
       "25%        0.000000      1.000000      0.000000  \n",
       "50%        0.000000      1.000000      0.000000  \n",
       "75%        0.000000      1.000000      1.000000  \n",
       "max        1.000000      1.000000      1.000000  "
      ]
     },
     "execution_count": 6,
     "metadata": {},
     "output_type": "execute_result"
    }
   ],
   "source": [
    "cardioData.describe()"
   ]
  },
  {
   "cell_type": "code",
   "execution_count": 7,
   "id": "9e22301d-cf70-49fd-90b4-00c177cf09cc",
   "metadata": {},
   "outputs": [
    {
     "name": "stdout",
     "output_type": "stream",
     "text": [
      "<class 'pandas.core.frame.DataFrame'>\n",
      "RangeIndex: 70000 entries, 0 to 69999\n",
      "Data columns (total 13 columns):\n",
      " #   Column       Non-Null Count  Dtype  \n",
      "---  ------       --------------  -----  \n",
      " 0   id           70000 non-null  int64  \n",
      " 1   age          70000 non-null  int64  \n",
      " 2   gender       70000 non-null  int64  \n",
      " 3   height       70000 non-null  int64  \n",
      " 4   weight       70000 non-null  float64\n",
      " 5   ap_hi        70000 non-null  int64  \n",
      " 6   ap_lo        70000 non-null  int64  \n",
      " 7   cholesterol  70000 non-null  int64  \n",
      " 8   gluc         70000 non-null  int64  \n",
      " 9   smoke        70000 non-null  int64  \n",
      " 10  alco         70000 non-null  int64  \n",
      " 11  active       70000 non-null  int64  \n",
      " 12  cardio       70000 non-null  int64  \n",
      "dtypes: float64(1), int64(12)\n",
      "memory usage: 6.9 MB\n"
     ]
    }
   ],
   "source": [
    "cardioData.info()"
   ]
  },
  {
   "cell_type": "markdown",
   "id": "98548d93-8a32-4f49-bf8c-ccef2ab68b5d",
   "metadata": {},
   "source": [
    "There is a total of 70000 rows of data with 12 columns"
   ]
  },
  {
   "cell_type": "markdown",
   "id": "1d94243d-82dc-4999-9ecf-7cee12019b45",
   "metadata": {},
   "source": [
    "## CLEAN DATA "
   ]
  },
  {
   "cell_type": "markdown",
   "id": "075c805f-f3fa-4b3b-87ee-10bbf949f152",
   "metadata": {},
   "source": [
    "##### check if there are any missing values per column"
   ]
  },
  {
   "cell_type": "code",
   "execution_count": 8,
   "id": "1c432870-eb24-4427-afa9-ff315339f543",
   "metadata": {},
   "outputs": [
    {
     "name": "stdout",
     "output_type": "stream",
     "text": [
      "id             0\n",
      "age            0\n",
      "gender         0\n",
      "height         0\n",
      "weight         0\n",
      "ap_hi          0\n",
      "ap_lo          0\n",
      "cholesterol    0\n",
      "gluc           0\n",
      "smoke          0\n",
      "alco           0\n",
      "active         0\n",
      "cardio         0\n",
      "dtype: int64\n"
     ]
    }
   ],
   "source": [
    "print(cardioData.isnull().sum()) "
   ]
  },
  {
   "cell_type": "markdown",
   "id": "1f6e0e82-06d9-417d-824a-bdb2a01e5a48",
   "metadata": {},
   "source": [
    "Number Of Missing Data : 0"
   ]
  },
  {
   "cell_type": "markdown",
   "id": "9019b3d0-ee1f-4e66-9792-67321a13dd90",
   "metadata": {},
   "source": [
    "##### check for any outliers in dataset "
   ]
  },
  {
   "cell_type": "code",
   "execution_count": 9,
   "id": "fb27795d-0f07-4303-a818-d6700c1fc789",
   "metadata": {},
   "outputs": [
    {
     "name": "stdout",
     "output_type": "stream",
     "text": [
      "             height        weight\n",
      "count  70000.000000  70000.000000\n",
      "mean     164.359229     74.205690\n",
      "std        8.210126     14.395757\n",
      "min       55.000000     10.000000\n",
      "25%      159.000000     65.000000\n",
      "50%      165.000000     72.000000\n",
      "75%      170.000000     82.000000\n",
      "max      250.000000    200.000000\n"
     ]
    }
   ],
   "source": [
    "print(cardioData[['height', 'weight']].describe())"
   ]
  },
  {
   "cell_type": "code",
   "execution_count": 10,
   "id": "893161ce-bd6f-4e4b-af90-a648b2912495",
   "metadata": {},
   "outputs": [
    {
     "name": "stdout",
     "output_type": "stream",
     "text": [
      "          id    age  gender  height  weight  ap_hi  ap_lo  cholesterol  gluc  \\\n",
      "6486    9223  21220       1     250    86.0    140    100            3     1   \n",
      "21628  30894  19054       2     207    78.0    100     70            1     1   \n",
      "\n",
      "       smoke  alco  active  cardio  \n",
      "6486       0     0       1       1  \n",
      "21628      0     1       1       0  \n"
     ]
    }
   ],
   "source": [
    "outliers = cardioData[(cardioData['height'] > 200) | (cardioData['weight'] > 200)]\n",
    "print(outliers)"
   ]
  },
  {
   "cell_type": "markdown",
   "id": "cbefab31-a8b6-4034-addf-2fe5fd731ce1",
   "metadata": {},
   "source": [
    "Found 2 unrealistic heights from the data, need to remove from data"
   ]
  },
  {
   "cell_type": "code",
   "execution_count": 11,
   "id": "a810afe3-c8d1-4be8-8560-4eed3bd2ab7a",
   "metadata": {},
   "outputs": [],
   "source": [
    "#removal of the 2 weird data\n",
    "df_cleaned = cardioData.drop([6486, 21628])"
   ]
  },
  {
   "cell_type": "code",
   "execution_count": 12,
   "id": "715388e6-5e7f-4667-a1ea-fdf205a155a7",
   "metadata": {},
   "outputs": [
    {
     "name": "stdout",
     "output_type": "stream",
     "text": [
      "Empty DataFrame\n",
      "Columns: [id, age, gender, height, weight, ap_hi, ap_lo, cholesterol, gluc, smoke, alco, active, cardio]\n",
      "Index: []\n"
     ]
    }
   ],
   "source": [
    "#checking if outlier got removed\n",
    "outliers = df_cleaned[(df_cleaned['height'] > 200) | (df_cleaned['weight'] > 200)]\n",
    "print(outliers)"
   ]
  },
  {
   "cell_type": "markdown",
   "id": "ef3a29ec-3343-4931-9fe7-3e70bafd6079",
   "metadata": {},
   "source": [
    "Removed outlier successfully"
   ]
  },
  {
   "cell_type": "markdown",
   "id": "78e6b985-1a3d-4583-b1ed-8c5894a4bd7f",
   "metadata": {},
   "source": [
    "##### To understand the data better, we want to convert the age data from days to years."
   ]
  },
  {
   "cell_type": "code",
   "execution_count": 13,
   "id": "ee48313f-9599-431e-87e5-9fba6aecc3d8",
   "metadata": {},
   "outputs": [
    {
     "name": "stdout",
     "output_type": "stream",
     "text": [
      "0    18393\n",
      "1    20228\n",
      "2    18857\n",
      "3    17623\n",
      "4    17474\n",
      "Name: age, dtype: int64\n"
     ]
    }
   ],
   "source": [
    "#check the data format for age\n",
    "print(cardioData['age'].head())"
   ]
  },
  {
   "cell_type": "code",
   "execution_count": 14,
   "id": "d223099d-dc46-4229-ad30-57e3a3fa2cdb",
   "metadata": {},
   "outputs": [
    {
     "name": "stdout",
     "output_type": "stream",
     "text": [
      "   id  age  gender  height  weight  ap_hi  ap_lo  cholesterol  gluc  smoke  \\\n",
      "0   0   50       2     168    62.0    110     80            1     1      0   \n",
      "1   1   55       1     156    85.0    140     90            3     1      0   \n",
      "2   2   52       1     165    64.0    130     70            3     1      0   \n",
      "3   3   48       2     169    82.0    150    100            1     1      0   \n",
      "4   4   48       1     156    56.0    100     60            1     1      0   \n",
      "\n",
      "   alco  active  cardio  \n",
      "0     0       1       0  \n",
      "1     0       1       1  \n",
      "2     0       0       1  \n",
      "3     0       1       1  \n",
      "4     0       0       0  \n"
     ]
    }
   ],
   "source": [
    "# create function to convert days to years\n",
    "def days_to_years(days):\n",
    "    days_per_year = 365.25\n",
    "    return days / days_per_year\n",
    "\n",
    "# apply function to the 'age' column\n",
    "cardioData['age'] = cardioData['age'].apply(days_to_years)\n",
    "\n",
    "# round age to nearest interger\n",
    "cardioData['age'] = cardioData['age'].round().astype(int)\n",
    "\n",
    "#check if age data updated\n",
    "print(cardioData.head())\n"
   ]
  },
  {
   "cell_type": "markdown",
   "id": "6f81e619-54a9-4fbc-a4d1-2fb36a36c7ec",
   "metadata": {},
   "source": [
    "#### Rename data so its easier to read on the table"
   ]
  },
  {
   "cell_type": "code",
   "execution_count": 15,
   "id": "3a5d0d35-0aed-4c4d-957e-f3bf4fade3a3",
   "metadata": {},
   "outputs": [
    {
     "name": "stdout",
     "output_type": "stream",
     "text": [
      "    ID  AGE  GENDER  HEIGHT  WEIGHT  SYSTOLIC_BP  DIASTOLIC_BP  CHOLESTEROL  \\\n",
      "0    0   50       2     168    62.0          110            80            1   \n",
      "1    1   55       1     156    85.0          140            90            3   \n",
      "2    2   52       1     165    64.0          130            70            3   \n",
      "3    3   48       2     169    82.0          150           100            1   \n",
      "4    4   48       1     156    56.0          100            60            1   \n",
      "5    8   60       1     151    67.0          120            80            2   \n",
      "6    9   61       1     157    93.0          130            80            3   \n",
      "7   12   62       2     178    95.0          130            90            3   \n",
      "8   13   48       1     158    71.0          110            70            1   \n",
      "9   14   54       1     164    68.0          110            60            1   \n",
      "10  15   62       1     169    80.0          120            80            1   \n",
      "11  16   52       2     173    60.0          120            80            1   \n",
      "12  18   40       2     165    60.0          120            80            1   \n",
      "13  21   54       1     158    78.0          110            70            1   \n",
      "14  23   40       2     181    95.0          130            90            1   \n",
      "15  24   46       2     172   112.0          120            80            1   \n",
      "16  25   58       1     170    75.0          130            70            1   \n",
      "17  27   46       1     158    52.0          110            70            1   \n",
      "18  28   48       1     154    68.0          100            70            1   \n",
      "19  29   60       2     162    56.0          120            70            1   \n",
      "20  30   54       2     163    83.0          120            80            1   \n",
      "21  31   59       1     157    69.0          130            80            1   \n",
      "22  32   63       1     158    90.0          145            85            2   \n",
      "23  33   64       2     156    45.0          110            60            1   \n",
      "24  35   45       1     170    68.0          150            90            3   \n",
      "25  36   40       1     153    65.0          130           100            2   \n",
      "26  37   54       1     156    59.0          130            90            1   \n",
      "27  38   50       1     159    78.0          120            80            1   \n",
      "28  39   40       2     166    66.0          120            80            1   \n",
      "29  40   58       2     169    74.0          130            70            1   \n",
      "\n",
      "    GLUCOSE  SMOKE  ALCOHOL  ACTIVE  CARDIO_PATIENT  \n",
      "0         1      0        0       1               0  \n",
      "1         1      0        0       1               1  \n",
      "2         1      0        0       0               1  \n",
      "3         1      0        0       1               1  \n",
      "4         1      0        0       0               0  \n",
      "5         2      0        0       0               0  \n",
      "6         1      0        0       1               0  \n",
      "7         3      0        0       1               1  \n",
      "8         1      0        0       1               0  \n",
      "9         1      0        0       0               0  \n",
      "10        1      0        0       1               0  \n",
      "11        1      0        0       1               0  \n",
      "12        1      0        0       0               0  \n",
      "13        1      0        0       1               0  \n",
      "14        1      1        1       1               0  \n",
      "15        1      0        0       0               1  \n",
      "16        1      0        0       0               0  \n",
      "17        3      0        0       1               0  \n",
      "18        1      0        0       0               0  \n",
      "19        1      1        0       1               0  \n",
      "20        1      0        0       1               0  \n",
      "21        1      0        0       1               0  \n",
      "22        2      0        0       1               1  \n",
      "23        1      0        0       1               0  \n",
      "24        1      0        0       1               1  \n",
      "25        1      0        0       1               0  \n",
      "26        1      0        0       1               0  \n",
      "27        1      0        0       1               0  \n",
      "28        1      0        0       1               0  \n",
      "29        3      0        0       0               0  \n"
     ]
    }
   ],
   "source": [
    "df_cleaned = cardioData.copy()\n",
    "df_cleaned.rename(columns = {'ap_hi': 'Systolic_BP'}, inplace = True)\n",
    "df_cleaned.rename(columns = {'ap_lo': 'Diastolic_BP'}, inplace = True)\n",
    "df_cleaned.rename(columns = {'gluc': 'Glucose'}, inplace = True)\n",
    "df_cleaned.rename(columns = {'alco': 'Alcohol'}, inplace = True)\n",
    "df_cleaned.rename(columns = {'cardio': 'Cardio_Patient'}, inplace = True)\n",
    "df_cleaned.columns = df_cleaned.columns.str.upper()\n",
    "\n",
    "\n",
    "# Dropping unneeded ID column\n",
    "if 'id' in cardioData.columns:\n",
    "    cardioData.drop(\"id\", axis=1, inplace=True)\n",
    "else:\n",
    "    print(\"Column 'id' does not exist in the DataFrame.\")\n",
    "\n",
    "\n",
    "print(df_cleaned.head(30))"
   ]
  },
  {
   "cell_type": "code",
   "execution_count": 16,
   "id": "2569e954-3c8f-4f8d-a1d1-67bbfcad928a",
   "metadata": {},
   "outputs": [
    {
     "name": "stdout",
     "output_type": "stream",
     "text": [
      "GENDER\n",
      "1    45530\n",
      "2    24470\n",
      "Name: count, dtype: int64\n"
     ]
    }
   ],
   "source": [
    "# Check the unique values and their counts in the 'gender' column\n",
    "print(df_cleaned['GENDER'].value_counts())"
   ]
  },
  {
   "cell_type": "code",
   "execution_count": 17,
   "id": "a01a04c8-c4b2-47a5-9162-97937899c5c1",
   "metadata": {
    "scrolled": true
   },
   "outputs": [
    {
     "name": "stdout",
     "output_type": "stream",
     "text": [
      "Duplicated columns: []\n"
     ]
    }
   ],
   "source": [
    "duplicates = df_cleaned.columns[df_cleaned.columns.duplicated()].tolist()\n",
    "print(\"Duplicated columns:\", duplicates)\n",
    "df_cleaned = df_cleaned.loc[:, ~df_cleaned.columns.duplicated()]"
   ]
  },
  {
   "cell_type": "markdown",
   "id": "4b9e18f2-5228-4b30-adbd-ccb142431d83",
   "metadata": {},
   "source": [
    "#### CATERGORISING BMI"
   ]
  },
  {
   "cell_type": "code",
   "execution_count": 18,
   "id": "1db4e28f-7d30-41ed-bd8a-c9cc09917245",
   "metadata": {},
   "outputs": [
    {
     "name": "stdout",
     "output_type": "stream",
     "text": [
      "       AGE  GENDER  WEIGHT  HEIGHT        BMI   BMI_Category     ID  \\\n",
      "0       50       2    62.0     168  21.967120  Normal weight      0   \n",
      "1       55       1    85.0     156  34.927679        Obesity      1   \n",
      "2       52       1    64.0     165  23.507805  Normal weight      2   \n",
      "3       48       2    82.0     169  28.710479     Overweight      3   \n",
      "4       48       1    56.0     156  23.011177  Normal weight      4   \n",
      "...    ...     ...     ...     ...        ...            ...    ...   \n",
      "69995   53       2    76.0     168  26.927438     Overweight  99993   \n",
      "69996   62       1   126.0     158  50.472681        Obesity  99995   \n",
      "69997   52       2   105.0     183  31.353579        Obesity  99996   \n",
      "69998   61       1    72.0     163  27.099251     Overweight  99998   \n",
      "69999   56       1    72.0     170  24.913495     Overweight  99999   \n",
      "\n",
      "       SYSTOLIC_BP  DIASTOLIC_BP  CHOLESTEROL  GLUCOSE  SMOKE  ALCOHOL  \\\n",
      "0              110            80            1        1      0        0   \n",
      "1              140            90            3        1      0        0   \n",
      "2              130            70            3        1      0        0   \n",
      "3              150           100            1        1      0        0   \n",
      "4              100            60            1        1      0        0   \n",
      "...            ...           ...          ...      ...    ...      ...   \n",
      "69995          120            80            1        1      1        0   \n",
      "69996          140            90            2        2      0        0   \n",
      "69997          180            90            3        1      0        1   \n",
      "69998          135            80            1        2      0        0   \n",
      "69999          120            80            2        1      0        0   \n",
      "\n",
      "       ACTIVE  CARDIO_PATIENT  \n",
      "0           1               0  \n",
      "1           1               1  \n",
      "2           0               1  \n",
      "3           1               1  \n",
      "4           0               0  \n",
      "...       ...             ...  \n",
      "69995       1               0  \n",
      "69996       1               1  \n",
      "69997       0               1  \n",
      "69998       0               1  \n",
      "69999       1               0  \n",
      "\n",
      "[70000 rows x 15 columns]\n"
     ]
    }
   ],
   "source": [
    "# Calculate BMI\n",
    "df_cleaned['BMI'] = df_cleaned['WEIGHT'] / ((df_cleaned['HEIGHT'] / 100) ** 2)\n",
    "\n",
    "# Define BMI bins and labels\n",
    "bmi_bins = [0, 18.5, 24.9, 29.9, float('inf')]\n",
    "bmi_labels = ['Underweight', 'Normal weight', 'Overweight', 'Obesity']\n",
    "\n",
    "# Categorize BMI\n",
    "df_cleaned['BMI_Category'] = pd.cut(df_cleaned['BMI'], bins=bmi_bins, labels=bmi_labels, right=False)\n",
    "\n",
    "# Reorder columns to place 'age', 'gender', 'weight', 'height', 'BMI' and 'BMI_Category' in front\n",
    "columns_order = ['AGE', 'GENDER', 'WEIGHT', 'HEIGHT', 'BMI', 'BMI_Category'] + [col for col in df_cleaned.columns if col not in ['AGE', 'GENDER', 'WEIGHT', 'HEIGHT', 'BMI', 'BMI_Category']]\n",
    "df_cleaned = df_cleaned[columns_order]\n",
    "\n",
    "# Display the DataFrame with the new BMI and BMI Category columns\n",
    "print(df_cleaned)"
   ]
  },
  {
   "cell_type": "markdown",
   "id": "ececad1a-b58a-4a06-87d3-4454b755e1be",
   "metadata": {},
   "source": [
    "#### CATEGORISING BP LEVELS"
   ]
  },
  {
   "cell_type": "code",
   "execution_count": 19,
   "id": "c04d1705-3d51-402c-a03f-4d530a3e510b",
   "metadata": {},
   "outputs": [
    {
     "name": "stdout",
     "output_type": "stream",
     "text": [
      "    AGE  GENDER  WEIGHT  HEIGHT        BMI   BMI_Category  ID  SYSTOLIC_BP  \\\n",
      "0    50       2    62.0     168  21.967120  Normal weight   0          110   \n",
      "1    55       1    85.0     156  34.927679        Obesity   1          140   \n",
      "2    52       1    64.0     165  23.507805  Normal weight   2          130   \n",
      "3    48       2    82.0     169  28.710479     Overweight   3          150   \n",
      "4    48       1    56.0     156  23.011177  Normal weight   4          100   \n",
      "5    60       1    67.0     151  29.384676     Overweight   8          120   \n",
      "6    61       1    93.0     157  37.729725        Obesity   9          130   \n",
      "7    62       2    95.0     178  29.983588        Obesity  12          130   \n",
      "8    48       1    71.0     158  28.440955     Overweight  13          110   \n",
      "9    54       1    68.0     164  25.282570     Overweight  14          110   \n",
      "10   62       1    80.0     169  28.010224     Overweight  15          120   \n",
      "11   52       2    60.0     173  20.047446  Normal weight  16          120   \n",
      "12   40       2    60.0     165  22.038567  Normal weight  18          120   \n",
      "13   54       1    78.0     158  31.244993        Obesity  21          110   \n",
      "14   40       2    95.0     181  28.997894     Overweight  23          130   \n",
      "15   46       2   112.0     172  37.858302        Obesity  24          120   \n",
      "16   58       1    75.0     170  25.951557     Overweight  25          130   \n",
      "17   46       1    52.0     158  20.829995  Normal weight  27          110   \n",
      "18   48       1    68.0     154  28.672626     Overweight  28          100   \n",
      "19   60       2    56.0     162  21.338211  Normal weight  29          120   \n",
      "\n",
      "    DIASTOLIC_BP  CHOLESTEROL  GLUCOSE  SMOKE  ALCOHOL  ACTIVE  \\\n",
      "0             80            1        1      0        0       1   \n",
      "1             90            3        1      0        0       1   \n",
      "2             70            3        1      0        0       0   \n",
      "3            100            1        1      0        0       1   \n",
      "4             60            1        1      0        0       0   \n",
      "5             80            2        2      0        0       0   \n",
      "6             80            3        1      0        0       1   \n",
      "7             90            3        3      0        0       1   \n",
      "8             70            1        1      0        0       1   \n",
      "9             60            1        1      0        0       0   \n",
      "10            80            1        1      0        0       1   \n",
      "11            80            1        1      0        0       1   \n",
      "12            80            1        1      0        0       0   \n",
      "13            70            1        1      0        0       1   \n",
      "14            90            1        1      1        1       1   \n",
      "15            80            1        1      0        0       0   \n",
      "16            70            1        1      0        0       0   \n",
      "17            70            1        3      0        0       1   \n",
      "18            70            1        1      0        0       0   \n",
      "19            70            1        1      1        0       1   \n",
      "\n",
      "    CARDIO_PATIENT           BP_Category  \n",
      "0                0  Hypertension Stage 1  \n",
      "1                1  Hypertension Stage 2  \n",
      "2                1  Hypertension Stage 1  \n",
      "3                1  Hypertension Stage 2  \n",
      "4                0                Normal  \n",
      "5                0  Hypertension Stage 1  \n",
      "6                0  Hypertension Stage 1  \n",
      "7                1  Hypertension Stage 2  \n",
      "8                0                Normal  \n",
      "9                0                Normal  \n",
      "10               0  Hypertension Stage 1  \n",
      "11               0  Hypertension Stage 1  \n",
      "12               0  Hypertension Stage 1  \n",
      "13               0                Normal  \n",
      "14               0  Hypertension Stage 2  \n",
      "15               1  Hypertension Stage 1  \n",
      "16               0  Hypertension Stage 1  \n",
      "17               0                Normal  \n",
      "18               0                Normal  \n",
      "19               0              Elevated  \n"
     ]
    }
   ],
   "source": [
    "# Function to categorize blood pressure\n",
    "def categorize_blood_pressure(row):\n",
    "    systolic = row['SYSTOLIC_BP']\n",
    "    diastolic = row['DIASTOLIC_BP']\n",
    "    \n",
    "    \n",
    "    if systolic >= 180 or diastolic >= 120:\n",
    "        return 'Hypertensive Crisis'\n",
    "    elif systolic >= 140 or diastolic >= 90:\n",
    "        return 'Hypertension Stage 2'\n",
    "    elif 130 <= systolic <= 139 or 80 <= diastolic <= 89:\n",
    "        return 'Hypertension Stage 1'\n",
    "    elif 120 <= systolic <= 129 and diastolic < 80:\n",
    "        return 'Elevated'\n",
    "    elif systolic < 120 and diastolic < 80:\n",
    "        return 'Normal'\n",
    "    else:\n",
    "        return 'Unknown'  # Catch-all for unexpected values\n",
    "# Apply the function to each row in the DataFrame\n",
    "df_cleaned['BP_Category'] = df_cleaned.apply(categorize_blood_pressure, axis=1)\n",
    "\n",
    "# Display the DataFrame with the new BP_Category column\n",
    "print(df_cleaned.head(20))"
   ]
  },
  {
   "cell_type": "markdown",
   "id": "eea55cd3-fdff-49d2-8a74-38bbe287aedb",
   "metadata": {},
   "source": [
    "#### MACHINE LEARNING MODELS"
   ]
  },
  {
   "cell_type": "markdown",
   "id": "0d1ffb61-ad10-480a-94a2-84309b55ada7",
   "metadata": {},
   "source": [
    "#### XGBoost"
   ]
  },
  {
   "cell_type": "code",
   "execution_count": 20,
   "id": "ac3b1656-fced-4250-8d6b-473c8cc73681",
   "metadata": {},
   "outputs": [],
   "source": [
    "from xgboost import XGBClassifier\n",
    "from sklearn.metrics import accuracy_score\n",
    "from sklearn.model_selection import GridSearchCV, train_test_split\n",
    "\n",
    "\n",
    "def check(X_train_train, X_train_val, y_train_train, y_train_val):\n",
    "\n",
    "    model = XGBClassifier(learning_rate=0.1, max_depth=5, n_estimators=100, random_state=42, colsample_bytree=0.8)\n",
    "\n",
    "    # Fit the model to the training data\n",
    "    model.fit(X_train_train, y_train_train)\n",
    "\n",
    "    # Make predictions on the training and validation data\n",
    "    y_train_pred = model.predict(X_train_train)\n",
    "    y_val_pred = model.predict(X_train_val)\n",
    "\n",
    "    # Calculate accuracy on the training and validation data\n",
    "    train_acc = accuracy_score(y_train_train, y_train_pred)\n",
    "    val_acc = accuracy_score(y_train_val, y_val_pred)\n",
    "\n",
    "    # Return the accuracy scores\n",
    "    return train_acc, val_acc"
   ]
  },
  {
   "cell_type": "code",
   "execution_count": 21,
   "id": "b7573c85-4c14-4ad9-acee-ede0ce36122d",
   "metadata": {},
   "outputs": [
    {
     "name": "stdout",
     "output_type": "stream",
     "text": [
      "Accuracy: 0.6378571428571429\n",
      "Best parameters: {'learning_rate': 0.1, 'max_depth': 4, 'n_estimators': 50}\n",
      "Best score: 0.6473393371484563\n"
     ]
    }
   ],
   "source": [
    "X_train, X_test, y_train, y_test = train_test_split(df_cleaned[['AGE', 'GENDER', 'CHOLESTEROL', 'GLUCOSE', 'SMOKE','ALCOHOL', 'ACTIVE', 'BMI']], df_cleaned['CARDIO_PATIENT'], test_size=0.2, random_state=69)\n",
    "xgb = XGBClassifier(learning_rate=0.2, max_depth=4, n_estimators=50, random_state=42, colsample_bytree=0.8)\n",
    "xgb.fit(X_train, y_train)\n",
    "\n",
    "# Make predictions on the test set\n",
    "y_pred = xgb.predict(X_test)\n",
    "\n",
    "# Evaluate the performance of the XGBoost model\n",
    "accuracy = accuracy_score(y_test, y_pred)\n",
    "print(\"Accuracy:\", accuracy)\n",
    "\n",
    "# Define a parameter grid for the XGBoost model\n",
    "# Including hyperparameters to increase the accuracy of the model, and to reduce overfitting\n",
    "param_grid = {\n",
    "    'learning_rate': [0.1, 0.2, 0.3, 0.4],\n",
    "    'max_depth': [3, 4, 5],\n",
    "    'n_estimators': [50, 100, 200]\n",
    "}\n",
    "\n",
    "# # Create an instance of the GridSearchCV class\n",
    "grid_search = GridSearchCV(xgb, param_grid=param_grid, cv=3, scoring='accuracy')\n",
    "\n",
    "# Fit the GridSearchCV instance to the training data\n",
    "grid_search.fit(X_train, y_train)\n",
    "\n",
    "# Print the best parameters and score\n",
    "print(\"Best parameters:\", grid_search.best_params_)\n",
    "print(\"Best score:\", grid_search.best_score_)"
   ]
  },
  {
   "cell_type": "code",
   "execution_count": null,
   "id": "7ed84cfc-6b73-4ece-9fbe-3467c27902d5",
   "metadata": {},
   "outputs": [],
   "source": []
  },
  {
   "cell_type": "code",
   "execution_count": null,
   "id": "405f51f7-ef49-4056-ad56-6ca3b13420c8",
   "metadata": {},
   "outputs": [],
   "source": []
  }
 ],
 "metadata": {
  "kernelspec": {
   "display_name": "Python 3 (ipykernel)",
   "language": "python",
   "name": "python3"
  },
  "language_info": {
   "codemirror_mode": {
    "name": "ipython",
    "version": 3
   },
   "file_extension": ".py",
   "mimetype": "text/x-python",
   "name": "python",
   "nbconvert_exporter": "python",
   "pygments_lexer": "ipython3",
   "version": "3.11.4"
  },
  "widgets": {
   "application/vnd.jupyter.widget-state+json": {
    "state": {},
    "version_major": 2,
    "version_minor": 0
   }
  }
 },
 "nbformat": 4,
 "nbformat_minor": 5
}
